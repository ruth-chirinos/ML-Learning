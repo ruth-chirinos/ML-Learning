{
  "nbformat": 4,
  "nbformat_minor": 0,
  "metadata": {
    "colab": {
      "name": "TF-Intro-BasicOperations.ipynb",
      "version": "0.3.2",
      "provenance": [],
      "include_colab_link": true
    },
    "kernelspec": {
      "name": "python3",
      "display_name": "Python 3"
    }
  },
  "cells": [
    {
      "cell_type": "markdown",
      "metadata": {
        "id": "view-in-github",
        "colab_type": "text"
      },
      "source": [
        "<a href=\"https://colab.research.google.com/github/rutyroot/ML-Learning/blob/master/TF_Intro_BasicOperations.ipynb\" target=\"_parent\"><img src=\"https://colab.research.google.com/assets/colab-badge.svg\" alt=\"Open In Colab\"/></a>"
      ]
    },
    {
      "cell_type": "code",
      "metadata": {
        "id": "7iVd2aEpVBM_",
        "colab_type": "code",
        "colab": {}
      },
      "source": [
        "'''\n",
        "Basic Operations example using TensorFlow library.\n",
        "Author: Aymeric Damien\n",
        "Project: https://github.com/aymericdamien/TensorFlow-Examples/\n",
        "'''\n",
        "\n",
        "from __future__ import print_function\n",
        "\n",
        "import tensorflow as tf\n",
        "\n"
      ],
      "execution_count": 0,
      "outputs": []
    },
    {
      "cell_type": "code",
      "metadata": {
        "id": "jnonN4WYVF_l",
        "colab_type": "code",
        "colab": {}
      },
      "source": [
        "# Basic constant operations\n",
        "# The value returned by the constructor represents the output\n",
        "# of the Constant op.\n",
        "a = tf.constant(2)\n",
        "b = tf.constant(3)\n",
        "\n"
      ],
      "execution_count": 0,
      "outputs": []
    },
    {
      "cell_type": "code",
      "metadata": {
        "id": "yT4YtcQOVHwM",
        "colab_type": "code",
        "colab": {
          "base_uri": "https://localhost:8080/",
          "height": 68
        },
        "outputId": "2a5d37d6-56ed-4bbd-a120-0615460d5a39"
      },
      "source": [
        "# Launch the default graph.\n",
        "with tf.Session() as sess:\n",
        "    print(\"a=2, b=3\")\n",
        "    print(\"Addition with constants: %i\" % sess.run(a+b))\n",
        "    print(\"Multiplication with constants: %i\" % sess.run(a*b))\n",
        "\n"
      ],
      "execution_count": 3,
      "outputs": [
        {
          "output_type": "stream",
          "text": [
            "a=2, b=3\n",
            "Addition with constants: 5\n",
            "Multiplication with constants: 6\n"
          ],
          "name": "stdout"
        }
      ]
    },
    {
      "cell_type": "code",
      "metadata": {
        "id": "zWqou7ymViZV",
        "colab_type": "code",
        "colab": {}
      },
      "source": [
        "# Basic Operations with variable as graph input\n",
        "# The value returned by the constructor represents the output\n",
        "# of the Variable op. (define as input when running session)\n",
        "# tf Graph input\n",
        "a = tf.placeholder(tf.int16)\n",
        "b = tf.placeholder(tf.int16)\n",
        "\n"
      ],
      "execution_count": 0,
      "outputs": []
    },
    {
      "cell_type": "code",
      "metadata": {
        "id": "nXuaB-csVjvc",
        "colab_type": "code",
        "colab": {
          "base_uri": "https://localhost:8080/",
          "height": 68
        },
        "outputId": "0d375c9c-6822-4493-dd6d-a7d67f46f8ee"
      },
      "source": [
        "# Define some operations\n",
        "add = tf.add(a, b)\n",
        "mul = tf.multiply(a, b)\n",
        "\n",
        "# Launch the default graph.\n",
        "with tf.Session() as sess:\n",
        "    # Run every operation with variable input\n",
        "    print(\"Addition with variables: %i\" % sess.run(add, feed_dict={a: 2, b: 3}))\n",
        "    print(\"Multiplication with variables: %i\" % sess.run(mul, feed_dict={a: 2, b: 3}))\n",
        "\n",
        "\n",
        "# ----------------\n",
        "# More in details:\n",
        "# Matrix Multiplication from TensorFlow official tutorial\n",
        "\n",
        "# Create a Constant op that produces a 1x2 matrix.  The op is\n",
        "# added as a node to the default graph.\n",
        "#\n",
        "# The value returned by the constructor represents the output\n",
        "# of the Constant op.\n",
        "matrix1 = tf.constant([[3., 3.]])\n",
        "\n",
        "# Create another Constant that produces a 2x1 matrix.\n",
        "matrix2 = tf.constant([[2.],[2.]])\n",
        "\n",
        "# Create a Matmul op that takes 'matrix1' and 'matrix2' as inputs.\n",
        "# The returned value, 'product', represents the result of the matrix\n",
        "# multiplication.\n",
        "product = tf.matmul(matrix1, matrix2)\n",
        "\n",
        "# To run the matmul op we call the session 'run()' method, passing 'product'\n",
        "# which represents the output of the matmul op.  This indicates to the call\n",
        "# that we want to get the output of the matmul op back.\n",
        "#\n",
        "# All inputs needed by the op are run automatically by the session.  They\n",
        "# typically are run in parallel.\n",
        "#\n",
        "# The call 'run(product)' thus causes the execution of threes ops in the\n",
        "# graph: the two constants and matmul.\n",
        "#\n",
        "# The output of the op is returned in 'result' as a numpy `ndarray` object.\n",
        "with tf.Session() as sess:\n",
        "    result = sess.run(product)\n",
        "    print(result)\n",
        "    # ==> [[ 12.]]"
      ],
      "execution_count": 5,
      "outputs": [
        {
          "output_type": "stream",
          "text": [
            "Addition with variables: 5\n",
            "Multiplication with variables: 6\n",
            "[[12.]]\n"
          ],
          "name": "stdout"
        }
      ]
    }
  ]
}